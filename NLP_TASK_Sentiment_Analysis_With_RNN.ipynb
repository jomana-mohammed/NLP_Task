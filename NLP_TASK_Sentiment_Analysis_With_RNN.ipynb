{
  "nbformat": 4,
  "nbformat_minor": 0,
  "metadata": {
    "colab": {
      "provenance": []
    },
    "kernelspec": {
      "name": "python3",
      "display_name": "Python 3"
    },
    "language_info": {
      "name": "python"
    }
  },
  "cells": [
    {
      "cell_type": "markdown",
      "source": [
        "#**📌 Sentiment Analysis on Swiggy Reviews using Simple RNN 🏆**"
      ],
      "metadata": {
        "id": "A_Lsd2p91L2W"
      }
    },
    {
      "cell_type": "markdown",
      "source": [
        "# 📖 Overview\n",
        "This notebook performs sentiment analysis on restaurant reviews from Swiggy, using a Simple RNN model. The goal is to classify customer feedback into Positive, Negative, or Neutral sentiments based on the average rating provided."
      ],
      "metadata": {
        "id": "yGlOLYxr18gv"
      }
    },
    {
      "cell_type": "markdown",
      "source": [
        "#1️⃣ **Load the dataset and select relevant columns (Review & Rating).**"
      ],
      "metadata": {
        "id": "0K1n0bXCwUI8"
      }
    },
    {
      "cell_type": "code",
      "source": [
        "import pandas as pd\n",
        "import numpy as np\n",
        "import re\n",
        "from sklearn.model_selection import train_test_split\n",
        "from tensorflow.keras.preprocessing.text import Tokenizer\n",
        "from tensorflow.keras.preprocessing.sequence import pad_sequences\n",
        "from tensorflow.keras.models import Sequential\n",
        "from tensorflow.keras.layers import SimpleRNN, Dense, Embedding\n",
        "\n",
        "# Load dataset\n",
        "url = \"https://media.geeksforgeeks.org/wp-content/uploads/20250213152158779318/swiggy.csv\"\n",
        "data = pd.read_csv(url)"
      ],
      "metadata": {
        "id": "2KBYNnLYwSyX"
      },
      "execution_count": 24,
      "outputs": []
    },
    {
      "cell_type": "code",
      "source": [
        "# Display column names\n",
        "print(data.columns)\n",
        "\n",
        "# Select only relevant columns\n",
        "data = data[['Review', 'Avg Rating']]\n",
        "data.columns = ['review', 'sentiment']\n",
        "\n",
        "# Display column names after renaming\n",
        "print(data.columns)"
      ],
      "metadata": {
        "colab": {
          "base_uri": "https://localhost:8080/"
        },
        "id": "hZlTKUd-wuhb",
        "outputId": "b0a79828-e43c-46f9-e0b4-ebfe911a8d5b"
      },
      "execution_count": 25,
      "outputs": [
        {
          "output_type": "stream",
          "name": "stdout",
          "text": [
            "Index(['ID', 'Area', 'City', 'Restaurant Price', 'Avg Rating', 'Total Rating',\n",
            "       'Food Item', 'Food Type', 'Delivery Time', 'Review'],\n",
            "      dtype='object')\n",
            "Index(['review', 'sentiment'], dtype='object')\n"
          ]
        }
      ]
    },
    {
      "cell_type": "markdown",
      "source": [
        "#**2️⃣ Preprocess text data by cleaning special characters.**"
      ],
      "metadata": {
        "id": "AyQRumZqxP_m"
      }
    },
    {
      "cell_type": "code",
      "source": [
        "# Preprocessing function\n",
        "def clean_text(text):\n",
        "    text = text.lower()\n",
        "    text = re.sub(r'[^a-zA-Z0-9\\s]', '', text)  # Remove special characters\n",
        "    return text\n",
        "\n",
        "# Apply preprocessing\n",
        "data['review'] = data['review'].astype(str).apply(clean_text)"
      ],
      "metadata": {
        "id": "g9XYE24lxTYZ"
      },
      "execution_count": 13,
      "outputs": []
    },
    {
      "cell_type": "markdown",
      "source": [
        "#**3️⃣ Convert ratings into sentiment labels (Positive, Negative, Neutral).**"
      ],
      "metadata": {
        "id": "Ve58gHHRxrPT"
      }
    },
    {
      "cell_type": "code",
      "source": [
        "def encode_sentiment(rating):\n",
        "    if rating >= 4:\n",
        "        return 1  # Positive\n",
        "    elif rating <= 2:\n",
        "        return 0  # Negative\n",
        "    else:\n",
        "        return 2  # Neutral\n",
        "\n",
        "data['sentiment'] = data['sentiment'].apply(encode_sentiment)"
      ],
      "metadata": {
        "id": "Ej-VL1wKxnC8"
      },
      "execution_count": 14,
      "outputs": []
    },
    {
      "cell_type": "markdown",
      "source": [
        "#**4️⃣ Tokenize and pad sequences for input to the RNN model.**"
      ],
      "metadata": {
        "id": "hPrq3Nnwx9wU"
      }
    },
    {
      "cell_type": "code",
      "source": [
        "# Split data\n",
        "X_train, X_test, y_train, y_test = train_test_split(\n",
        "    data['review'], data['sentiment'], test_size=0.2, random_state=42\n",
        ")\n",
        "\n",
        "# Tokenization\n",
        "max_words = 5000  # Limit vocabulary size\n",
        "tokenizer = Tokenizer(num_words=max_words, oov_token=\"<OOV>\")\n",
        "tokenizer.fit_on_texts(X_train)\n",
        "\n",
        "X_train_seq = tokenizer.texts_to_sequences(X_train)\n",
        "X_test_seq = tokenizer.texts_to_sequences(X_test)\n",
        "\n",
        "# Padding\n",
        "max_len = 100  # Set max length for reviews\n",
        "X_train_pad = pad_sequences(X_train_seq, maxlen=max_len, padding='post')\n",
        "X_test_pad = pad_sequences(X_test_seq, maxlen=max_len, padding='post')"
      ],
      "metadata": {
        "id": "dkeRcrZex30M"
      },
      "execution_count": 15,
      "outputs": []
    },
    {
      "cell_type": "markdown",
      "source": [
        "#**5️⃣ Build and train a Simple RNN for sentiment classification.**"
      ],
      "metadata": {
        "id": "7qQg-XZ_yqid"
      }
    },
    {
      "cell_type": "code",
      "source": [
        "model = Sequential([\n",
        "    Embedding(input_dim=max_words, output_dim=64),\n",
        "    SimpleRNN(64, return_sequences=False),\n",
        "    Dense(32, activation='relu'),\n",
        "    Dense(3, activation='softmax')  # 3 output classes (Positive, Negative, Neutral)\n",
        "])"
      ],
      "metadata": {
        "id": "SUiUIivdylCA"
      },
      "execution_count": 27,
      "outputs": []
    },
    {
      "cell_type": "markdown",
      "source": [
        "#**6️⃣ Evaluate model performance on test data.**"
      ],
      "metadata": {
        "id": "5Jl-TQj_y2O5"
      }
    },
    {
      "cell_type": "code",
      "source": [
        "# Compile model\n",
        "model.compile(loss='sparse_categorical_crossentropy', optimizer='adam', metrics=['accuracy'])\n",
        "\n",
        "# Train model\n",
        "model.fit(X_train_pad, y_train, epochs=5, batch_size=32, validation_data=(X_test_pad, y_test))\n",
        "\n",
        "# Evaluate model\n",
        "loss, accuracy = model.evaluate(X_test_pad, y_test)\n",
        "print(f'Test Accuracy: {accuracy * 100:.2f}%')"
      ],
      "metadata": {
        "colab": {
          "base_uri": "https://localhost:8080/"
        },
        "id": "Pe8Gvj4jyu6a",
        "outputId": "386b3320-56e7-4487-8cd9-069a14f1aacd"
      },
      "execution_count": 17,
      "outputs": [
        {
          "output_type": "stream",
          "name": "stdout",
          "text": [
            "Epoch 1/5\n",
            "\u001b[1m200/200\u001b[0m \u001b[32m━━━━━━━━━━━━━━━━━━━━\u001b[0m\u001b[37m\u001b[0m \u001b[1m9s\u001b[0m 32ms/step - accuracy: 0.6786 - loss: 0.7009 - val_accuracy: 0.7225 - val_loss: 0.5925\n",
            "Epoch 2/5\n",
            "\u001b[1m200/200\u001b[0m \u001b[32m━━━━━━━━━━━━━━━━━━━━\u001b[0m\u001b[37m\u001b[0m \u001b[1m5s\u001b[0m 26ms/step - accuracy: 0.7136 - loss: 0.6031 - val_accuracy: 0.7225 - val_loss: 0.5921\n",
            "Epoch 3/5\n",
            "\u001b[1m200/200\u001b[0m \u001b[32m━━━━━━━━━━━━━━━━━━━━\u001b[0m\u001b[37m\u001b[0m \u001b[1m10s\u001b[0m 25ms/step - accuracy: 0.7181 - loss: 0.6003 - val_accuracy: 0.7225 - val_loss: 0.5925\n",
            "Epoch 4/5\n",
            "\u001b[1m200/200\u001b[0m \u001b[32m━━━━━━━━━━━━━━━━━━━━\u001b[0m\u001b[37m\u001b[0m \u001b[1m6s\u001b[0m 31ms/step - accuracy: 0.7161 - loss: 0.6009 - val_accuracy: 0.7225 - val_loss: 0.6037\n",
            "Epoch 5/5\n",
            "\u001b[1m200/200\u001b[0m \u001b[32m━━━━━━━━━━━━━━━━━━━━\u001b[0m\u001b[37m\u001b[0m \u001b[1m5s\u001b[0m 24ms/step - accuracy: 0.7188 - loss: 0.6006 - val_accuracy: 0.7225 - val_loss: 0.5908\n",
            "\u001b[1m50/50\u001b[0m \u001b[32m━━━━━━━━━━━━━━━━━━━━\u001b[0m\u001b[37m\u001b[0m \u001b[1m0s\u001b[0m 7ms/step - accuracy: 0.7287 - loss: 0.5848\n",
            "Test Accuracy: 72.25%\n"
          ]
        }
      ]
    },
    {
      "cell_type": "markdown",
      "source": [
        "#**7️⃣ Predict sentiment of new reviews using predict_sentiment() function.**"
      ],
      "metadata": {
        "id": "Ge9nImQQzFn0"
      }
    },
    {
      "cell_type": "code",
      "source": [
        "# Predict sentiment function\n",
        "def predict_sentiment(review_text):\n",
        "    review_text = clean_text(review_text)\n",
        "    seq = tokenizer.texts_to_sequences([review_text])\n",
        "    padded = pad_sequences(seq, maxlen=max_len, padding='post')\n",
        "    prediction = model.predict(padded)\n",
        "    sentiment_labels = {0: \"Negative\", 1: \"Positive\", 2: \"Neutral\"}\n",
        "    return sentiment_labels[np.argmax(prediction)]\n"
      ],
      "metadata": {
        "id": "vHOZSdiBzDHX"
      },
      "execution_count": 18,
      "outputs": []
    },
    {
      "cell_type": "code",
      "source": [
        "#test the predictions\n",
        "sample_review1 = \"The food was amazing and delivered on time!\"\n",
        "print(f'Sample Review: \"{sample_review1}\"')\n",
        "print(f'Predicted Sentiment: {predict_sentiment(sample_review1)}')"
      ],
      "metadata": {
        "colab": {
          "base_uri": "https://localhost:8080/"
        },
        "id": "IYH1gnHWzMAe",
        "outputId": "9a4ed0be-ffe1-4f7d-deee-a154f75b95d9"
      },
      "execution_count": 26,
      "outputs": [
        {
          "output_type": "stream",
          "name": "stdout",
          "text": [
            "Sample Review: \"The food was amazing and delivered on time!\"\n",
            "\u001b[1m1/1\u001b[0m \u001b[32m━━━━━━━━━━━━━━━━━━━━\u001b[0m\u001b[37m\u001b[0m \u001b[1m0s\u001b[0m 38ms/step\n",
            "Predicted Sentiment: Positive\n"
          ]
        }
      ]
    }
  ]
}